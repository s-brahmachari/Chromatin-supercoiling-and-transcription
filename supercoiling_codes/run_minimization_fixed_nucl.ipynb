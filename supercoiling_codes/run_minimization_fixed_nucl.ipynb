{
 "cells": [
  {
   "cell_type": "code",
   "execution_count": 1,
   "metadata": {},
   "outputs": [],
   "source": [
    "import Chromatin_fixed_nucleosome\n",
    "import numpy as np\n",
    "import matplotlib.pyplot as plt\n",
    "from matplotlib import colors\n",
    "import matplotlib.tri as tri"
   ]
  },
  {
   "cell_type": "code",
   "execution_count": 2,
   "metadata": {},
   "outputs": [
    {
     "name": "stdout",
     "output_type": "stream",
     "text": [
      "=====================\n",
      "Fixed nucleosome calculations:\n",
      "=====================\n",
      "\n",
      "Total DNA length: 1000 nm\n",
      "External force: 1.00 pN\n",
      "DNA length absorbed per nucleosome: 60 nm\n",
      "\n",
      "--------------\n",
      "Negative nucleosomes\n",
      "Binding energy: -40.0 kT\n",
      "Writhe: -1.40\n",
      "stretched DNA: 0.0 nm\n",
      "\n",
      "--------------\n",
      "Open nucleosomes\n",
      "Binding energy: -25.0 kT\n",
      "Writhe: 1.00\n",
      "stretched DNA: 20.0 nm\n",
      "\n",
      "--------------\n",
      "Positive nucleosomes\n",
      "Binding energy: -20.0 kT\n",
      "Writhe: -0.40\n",
      "stretched DNA: 0.0 nm\n",
      "\n",
      "=================================\n"
     ]
    }
   ],
   "source": [
    "minFE=Chromatin_fixed_nucleosome.FE_fixed_nucl()"
   ]
  },
  {
   "cell_type": "code",
   "execution_count": 4,
   "metadata": {},
   "outputs": [],
   "source": [
    "fe_vals=[]\n",
    "Torq_Z=[]\n",
    "sig_X,phi_Y=[],[]\n",
    "sig_vals=np.linspace(-0.04,0.04,15)\n",
    "for N in range(12):\n",
    "    fe=[]\n",
    "    for sig in sig_vals:\n",
    "        minFE.sumOverPlectAndNuclDist(sig,N)\n",
    "        fe.append(minFE.Emin)\n",
    "\n",
    "    torq=np.gradient(np.array(fe))*minFE.h/(2*np.pi*minFE.L_DNA*np.gradient(sig_vals))\n",
    "\n",
    "    for ix,sx in enumerate(sig_vals):\n",
    "        sig_X.append(sx)\n",
    "        phi_Y.append(N*minFE.l_nucl/minFE.L_DNA)\n",
    "        Torq_Z.append(torq[ix])\n",
    "        "
   ]
  },
  {
   "cell_type": "code",
   "execution_count": 6,
   "metadata": {},
   "outputs": [
    {
     "data": {
      "text/plain": [
       "Text(0.5, 1.0, '$\\\\tau$ (pN-nm)')"
      ]
     },
     "execution_count": 6,
     "metadata": {},
     "output_type": "execute_result"
    },
    {
     "data": {
      "image/png": "[encoded data removed]",
      "text/plain": [
       "<Figure size 432x288 with 2 Axes>"
      ]
     },
     "metadata": {
      "needs_background": "light"
     },
     "output_type": "display_data"
    }
   ],
   "source": [
    "\n",
    "Xi,Yi=np.meshgrid(np.linspace(-0.04,0.04,40),np.linspace(0,0.66,20))\n",
    "\n",
    "triang=tri.Triangulation(sig_X,phi_Y)\n",
    "\n",
    "interp_torq=tri.LinearTriInterpolator(triang,Torq_Z)\n",
    "\n",
    "plt.contourf(Xi, Yi, 4*interp_torq(Xi,Yi), cmap='RdBu', levels=np.linspace(-20,20,30))#,alpha=0.6)\n",
    "\n",
    "plt.colorbar()\n",
    "plt.xlabel('$\\\\sigma$')\n",
    "plt.ylabel('$\\\\phi$')\n",
    "plt.title('$\\\\tau$ (pN-nm)')\n",
    "# plt.savefig('../plots/torq_compute.png',dpi=300)"
   ]
  },
  {
   "cell_type": "code",
   "execution_count": null,
   "metadata": {},
   "outputs": [],
   "source": []
  }
 ],
 "metadata": {
  "interpreter": {
   "hash": "eb908e2ee61974166e0f6210d6d4eb74d980ad50e61ae905e9364c3983814675"
  },
  "kernelspec": {
   "display_name": "Python 3.7.10 ('newopenmm')",
   "language": "python",
   "name": "python3"
  },
  "language_info": {
   "codemirror_mode": {
    "name": "ipython",
    "version": 3
   },
   "file_extension": ".py",
   "mimetype": "text/x-python",
   "name": "python",
   "nbconvert_exporter": "python",
   "pygments_lexer": "ipython3",
   "version": "3.7.10"
  },
  "orig_nbformat": 4
 },
 "nbformat": 4,
 "nbformat_minor": 2
}
